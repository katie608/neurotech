{
 "cells": [
  {
   "cell_type": "markdown",
   "metadata": {},
   "source": [
    "# Morse Code EMG Accuracy (Hypothetical)\n",
    "I was wondering how 1/6 letters wrong would actually affect understanding, so I made a python program to modify 1/6 letters of the string randomly"
   ]
  },
  {
   "cell_type": "code",
   "execution_count": 28,
   "metadata": {},
   "outputs": [],
   "source": [
    "import random\n",
    "import string\n",
    "\n",
    "letters = string.ascii_lowercase\n",
    "\n",
    "def random_modification(s, p):\n",
    "    s = list(s)\n",
    "    for i in range(len(s)):\n",
    "        modify = random.random() < p\n",
    "        if modify:\n",
    "            s[i] = random.choice(letters)\n",
    "    return \"\".join(s)"
   ]
  },
  {
   "cell_type": "code",
   "execution_count": 29,
   "metadata": {},
   "outputs": [
    {
     "name": "stdout",
     "output_type": "stream",
     "text": [
      "Help, I'm njuck in anPython factory!\n",
      "t lovl thi clais veurozechlplogy, Braies,dand Maczines\n",
      "zf you are realing tiiz, it cs probazly the future and I ao oldee\n"
     ]
    }
   ],
   "source": [
    "print(random_modification(\"Help, I'm stuck in a Python factory!\", 0.16))\n",
    "print(random_modification(\"I love the class Neurotechnology, Brains, and Machines\", 0.16))\n",
    "print(random_modification(\"If you are reading this, it is probably the future and I am older\", 0.16))"
   ]
  },
  {
   "cell_type": "code",
   "execution_count": 32,
   "metadata": {},
   "outputs": [
    {
     "name": "stdout",
     "output_type": "stream",
     "text": [
      "Help, I'm stxck in a Python factory!\n",
      "I love the clasc Neurouechnology, Brains, and Machiyes\n",
      "If you are reading thisz it is probably thebfutuve and I am older\n"
     ]
    }
   ],
   "source": [
    "print(random_modification(\"Help, I'm stuck in a Python factory!\", 0.05))\n",
    "print(random_modification(\"I love the class Neurotechnology, Brains, and Machines\", 0.05))\n",
    "print(random_modification(\"If you are reading this, it is probably the future and I am older\", 0.05))"
   ]
  },
  {
   "cell_type": "code",
   "execution_count": null,
   "metadata": {},
   "outputs": [],
   "source": []
  }
 ],
 "metadata": {
  "kernelspec": {
   "display_name": "Python 3",
   "language": "python",
   "name": "python3"
  },
  "language_info": {
   "codemirror_mode": {
    "name": "ipython",
    "version": 3
   },
   "file_extension": ".py",
   "mimetype": "text/x-python",
   "name": "python",
   "nbconvert_exporter": "python",
   "pygments_lexer": "ipython3",
   "version": "3.7.6"
  }
 },
 "nbformat": 4,
 "nbformat_minor": 4
}
